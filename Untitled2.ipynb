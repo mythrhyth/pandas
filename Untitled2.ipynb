{
 "cells": [
  {
   "cell_type": "code",
   "execution_count": 3,
   "id": "60551fed",
   "metadata": {},
   "outputs": [
    {
     "name": "stdout",
     "output_type": "stream",
     "text": [
      "Index: 0, Row: (1, 4)\n",
      "Index: 1, Row: (2, 5)\n",
      "Index: 2, Row: (3, 6)\n",
      "Column: A, Data: 0    1\n",
      "1    2\n",
      "2    3\n",
      "Name: A, dtype: int64\n",
      "Column: B, Data: 0    4\n",
      "1    5\n",
      "2    6\n",
      "Name: B, dtype: int64\n"
     ]
    }
   ],
   "source": [
    "import pandas as pd\n",
    "df = pd.DataFrame({\n",
    "    'A': [1, 2, 3],\n",
    "    'B': [4, 5, 6]\n",
    "})\n",
    "\n",
    "for index, row in df.iterrows():\n",
    "    print(f\"Index: {index}, Row: {row['A'], row['B']}\")\n",
    "for column in df:\n",
    "    print(f\"Column: {column}, Data: {df[column]}\")"
   ]
  },
  {
   "cell_type": "code",
   "execution_count": 3,
   "id": "a8a5e39c",
   "metadata": {},
   "outputs": [
    {
     "name": "stdout",
     "output_type": "stream",
     "text": [
      "{'Aarju': [0, 4], 'Ansuya': [1, 2], 'Rhythm': [3, 5]}\n"
     ]
    }
   ],
   "source": [
    "import pandas as pd \n",
    "data = {'Name':['Aarju', 'Ansuya', 'Ansuya', 'Rhythm', 'Aarju', 'Rhythm'], \n",
    "        'Subject':['Biology', 'Biology', 'Computer', 'Mathematics', 'Mathematics', 'Mathematics']}\n",
    "\n",
    "df = pd.DataFrame(data)\n",
    "print(df.groupby('Name').groups)"
   ]
  },
  {
   "cell_type": "code",
   "execution_count": 4,
   "id": "406ee164",
   "metadata": {},
   "outputs": [
    {
     "name": "stdout",
     "output_type": "stream",
     "text": [
      "     Name  Age    Address Qualification\n",
      "0     Jai   27     Nagpur           Msc\n",
      "1    Anuj   24     Kanpur            MA\n",
      "2     Jai   22  Allahabad           MCA\n",
      "3  Princi   32    Kannuaj           Phd\n",
      "4  Gaurav   33    Jaunpur        B.Tech\n",
      "5    Anuj   36     Kanpur         B.com\n",
      "6  Princi   27  Allahabad           Msc\n",
      "7    Abhi   32    Aligarh            MA\n",
      "{'Abhi': [7], 'Anuj': [1, 5], 'Gaurav': [4], 'Jai': [0, 2], 'Princi': [3, 6]}\n"
     ]
    }
   ],
   "source": [
    "# importing pandas module\n",
    "import pandas as pd \n",
    " \n",
    "# Define a dictionary containing employee data \n",
    "data1 = {'Name':['Jai', 'Anuj', 'Jai', 'Princi', \n",
    "                 'Gaurav', 'Anuj', 'Princi', 'Abhi'], \n",
    "        'Age':[27, 24, 22, 32, \n",
    "               33, 36, 27, 32], \n",
    "        'Address':['Nagpur', 'Kanpur', 'Allahabad', 'Kannuaj',\n",
    "                   'Jaunpur', 'Kanpur', 'Allahabad', 'Aligarh'], \n",
    "        'Qualification':['Msc', 'MA', 'MCA', 'Phd',\n",
    "                         'B.Tech', 'B.com', 'Msc', 'MA']} \n",
    "   \n",
    " \n",
    "\n",
    "df = pd.DataFrame(data1)\n",
    " \n",
    "print(df) \n",
    "df.groupby('Name')\n",
    "print(df.groupby('Name').groups)"
   ]
  },
  {
   "cell_type": "code",
   "execution_count": 7,
   "id": "c7a9d4fb",
   "metadata": {},
   "outputs": [
    {
     "name": "stdout",
     "output_type": "stream",
     "text": [
      "1\n",
      "2\n",
      "5\n",
      "1\n",
      "2\n",
      "5\n",
      "1\n",
      "2\n",
      "5\n"
     ]
    }
   ],
   "source": [
    "list = [[1, 2], [1, 2], [1, 2]]\n",
    "for a, b in list:\n",
    "    print(a)\n",
    "    print(b)\n",
    "    print(c)"
   ]
  },
  {
   "cell_type": "code",
   "execution_count": 13,
   "id": "13ab3918",
   "metadata": {},
   "outputs": [
    {
     "name": "stdout",
     "output_type": "stream",
     "text": [
      "{('Abhi', 'MA'): [7], ('Anuj', 'B.com'): [5], ('Anuj', 'MA'): [1], ('Gaurav', 'B.Tech'): [4], ('Jai', 'MCA'): [2], ('Jai', 'Msc'): [0], ('Princi', 'Msc'): [6], ('Princi', 'Phd'): [3]}\n",
      "Abhi\n",
      "MA\n",
      "('Abhi', 'MA')\n",
      "   Name  Age  Address Qualification\n",
      "7  Abhi   32  Aligarh            MA\n",
      "\n",
      "Anuj\n",
      "B.com\n",
      "('Anuj', 'B.com')\n",
      "   Name  Age Address Qualification\n",
      "5  Anuj   36  Kanpur         B.com\n",
      "\n",
      "Anuj\n",
      "MA\n",
      "('Anuj', 'MA')\n",
      "   Name  Age Address Qualification\n",
      "1  Anuj   24  Kanpur            MA\n",
      "\n",
      "Gaurav\n",
      "B.Tech\n",
      "('Gaurav', 'B.Tech')\n",
      "     Name  Age  Address Qualification\n",
      "4  Gaurav   33  Jaunpur        B.Tech\n",
      "\n",
      "Jai\n",
      "MCA\n",
      "('Jai', 'MCA')\n",
      "  Name  Age    Address Qualification\n",
      "2  Jai   22  Allahabad           MCA\n",
      "\n",
      "Jai\n",
      "Msc\n",
      "('Jai', 'Msc')\n",
      "  Name  Age Address Qualification\n",
      "0  Jai   27  Nagpur           Msc\n",
      "\n",
      "Princi\n",
      "Msc\n",
      "('Princi', 'Msc')\n",
      "     Name  Age    Address Qualification\n",
      "6  Princi   27  Allahabad           Msc\n",
      "\n",
      "Princi\n",
      "Phd\n",
      "('Princi', 'Phd')\n",
      "     Name  Age  Address Qualification\n",
      "3  Princi   32  Kannuaj           Phd\n",
      "\n"
     ]
    }
   ],
   "source": [
    "grp = df.groupby(['Name', 'Qualification'])\n",
    "print(grp.groups)\n",
    "for name, group in grp:\n",
    "    for i in name:\n",
    "        print(i)\n",
    "        \n",
    "    print(name)\n",
    "    print(group)\n",
    "    print()"
   ]
  },
  {
   "cell_type": "code",
   "execution_count": 17,
   "id": "6b62f7c2",
   "metadata": {},
   "outputs": [
    {
     "ename": "SyntaxError",
     "evalue": "expression cannot contain assignment, perhaps you meant \"==\"? (1041905947.py, line 23)",
     "output_type": "error",
     "traceback": [
      "\u001b[1;36m  Cell \u001b[1;32mIn[17], line 23\u001b[1;36m\u001b[0m\n\u001b[1;33m    grp.filter(lambda x: len(x) &gt= 2)\u001b[0m\n\u001b[1;37m               ^\u001b[0m\n\u001b[1;31mSyntaxError\u001b[0m\u001b[1;31m:\u001b[0m expression cannot contain assignment, perhaps you meant \"==\"?\n"
     ]
    }
   ],
   "source": [
    "import pandas as pd \n",
    "\n",
    "# importing numpy as np\n",
    "import numpy as np\n",
    " \n",
    "# Define a dictionary containing employee data \n",
    "data1 = {'Name':['Jai', 'Anuj', 'Jai', 'Princi', \n",
    "                 'Gaurav', 'Anuj', 'Princi', 'Abhi'], \n",
    "        'Age':[27, 24, 22, 32, \n",
    "               33, 36, 27, 32], \n",
    "        'Address':['Nagpur', 'Kanpur', 'Allahabad', 'Kannuaj',\n",
    "                   'Jaunpur', 'Kanpur', 'Allahabad', 'Aligarh'], \n",
    "        'Qualification':['Msc', 'MA', 'MCA', 'Phd',\n",
    "                         'B.Tech', 'B.com', 'Msc', 'MA'],\n",
    "        'Score': [23, 34, 35, 45, 47, 50, 52, 53]} \n",
    "   \n",
    "\n",
    "df = pd.DataFrame(data1)\n",
    " \n",
    "print(df) \n",
    "\n",
    "grp = df.groupby('Name')\n",
    "grp.filter(lambda x: len(x) &gt= 2)"
   ]
  },
  {
   "cell_type": "code",
   "execution_count": 18,
   "id": "05df0e16",
   "metadata": {},
   "outputs": [
    {
     "name": "stdout",
     "output_type": "stream",
     "text": [
      "                Team      Player  Goals\n",
      "0            Arsenal        Ozil      5\n",
      "1  Manchester United       Pogba      3\n",
      "2            Arsenal       Lucas      6\n",
      "3            Arsenal  Aubameyang      4\n",
      "4            Chelsea      Hazard      9\n",
      "5  Manchester United        Mata      2\n",
      "6  Manchester United      Lukaku      0\n",
      "7            Chelsea      Morata      5\n",
      "8            Chelsea      Giroud      2\n",
      "9            Chelsea       Kante      3\n"
     ]
    }
   ],
   "source": [
    "import pandas as pd \n",
    "  \n",
    "# example dataframe \n",
    "example = {'Team':['Arsenal', 'Manchester United', 'Arsenal', \n",
    "                   'Arsenal', 'Chelsea', 'Manchester United', \n",
    "                   'Manchester United', 'Chelsea', 'Chelsea', 'Chelsea'], \n",
    "                     \n",
    "           'Player':['Ozil', 'Pogba', 'Lucas', 'Aubameyang', \n",
    "                       'Hazard', 'Mata', 'Lukaku', 'Morata',  \n",
    "                                         'Giroud', 'Kante'], \n",
    "                                           \n",
    "           'Goals':[5, 3, 6, 4, 9, 2, 0, 5, 2, 3] } \n",
    "  \n",
    "df = pd.DataFrame(example) \n",
    "  \n",
    "print(df) "
   ]
  },
  {
   "cell_type": "code",
   "execution_count": 23,
   "id": "eb1e13de",
   "metadata": {},
   "outputs": [
    {
     "name": "stdout",
     "output_type": "stream",
     "text": [
      "Team\n",
      "Arsenal              15\n",
      "Chelsea              19\n",
      "Manchester United     5\n",
      "Name: Goals, dtype: int64\n"
     ]
    }
   ],
   "source": [
    "total_goals = df['Goals'].groupby(df['Team']) \n",
    "  \n",
    "# printing the means value \n",
    "print(total_goals.sum())     "
   ]
  },
  {
   "cell_type": "code",
   "execution_count": null,
   "id": "9e030dc6",
   "metadata": {},
   "outputs": [],
   "source": []
  }
 ],
 "metadata": {
  "kernelspec": {
   "display_name": "Python 3 (ipykernel)",
   "language": "python",
   "name": "python3"
  },
  "language_info": {
   "codemirror_mode": {
    "name": "ipython",
    "version": 3
   },
   "file_extension": ".py",
   "mimetype": "text/x-python",
   "name": "python",
   "nbconvert_exporter": "python",
   "pygments_lexer": "ipython3",
   "version": "3.11.7"
  }
 },
 "nbformat": 4,
 "nbformat_minor": 5
}
