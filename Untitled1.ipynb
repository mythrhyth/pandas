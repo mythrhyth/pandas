{
 "cells": [
  {
   "cell_type": "code",
   "execution_count": 5,
   "id": "f8f9d523",
   "metadata": {},
   "outputs": [
    {
     "name": "stdout",
     "output_type": "stream",
     "text": [
      "before apply\n",
      "\n",
      "   A  B  C\n",
      "0  1  4  7\n",
      "1  2  5  8\n",
      "2  3  6  9\n",
      "after apply\n",
      "\n",
      "         A   B   C  add\n",
      "0        1   4   7   12\n",
      "1        2   5   8   15\n",
      "2        3   6   9   18\n",
      "add col  6  15  24   45\n"
     ]
    }
   ],
   "source": [
    "import pandas as pd\n",
    "def add_rows(row):\n",
    "    return row['A']+row['B']+row['C']\n",
    "def add_col(col):\n",
    "    return col.sum()\n",
    "def main():\n",
    "    data = {'A':[1, 2, 3],\n",
    "           'B':[4, 5, 6],\n",
    "           'C':[7, 8, 9]}\n",
    "    df = pd.DataFrame(data)\n",
    "    print(\"before apply\\n\")\n",
    "    print(df)\n",
    "    df['add'] = df.apply(add_rows, axis = 1)\n",
    "    df.loc['add col'] = df.apply(add_col, axis = 0)\n",
    "    print(\"after apply\\n\")\n",
    "    print(df)\n",
    "    \n",
    "if __name__ == '__main__':\n",
    "    main()\n",
    "    "
   ]
  },
  {
   "cell_type": "code",
   "execution_count": null,
   "id": "e931ef9d",
   "metadata": {},
   "outputs": [],
   "source": []
  }
 ],
 "metadata": {
  "kernelspec": {
   "display_name": "Python 3 (ipykernel)",
   "language": "python",
   "name": "python3"
  },
  "language_info": {
   "codemirror_mode": {
    "name": "ipython",
    "version": 3
   },
   "file_extension": ".py",
   "mimetype": "text/x-python",
   "name": "python",
   "nbconvert_exporter": "python",
   "pygments_lexer": "ipython3",
   "version": "3.11.7"
  }
 },
 "nbformat": 4,
 "nbformat_minor": 5
}
